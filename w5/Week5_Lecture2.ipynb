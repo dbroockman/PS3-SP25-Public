{
 "cells": [
  {
   "cell_type": "markdown",
   "metadata": {},
   "source": [
    "# POLSCI 3\n",
    "\n",
    "## Week 5, Lecture 2\n",
    "\n",
    "In this activity, we are going to practice our new approach for comparing treatment and control groups in experiments, using the `difference_in_means()` function from the `estimatr` package."
   ]
  },
  {
   "cell_type": "markdown",
   "metadata": {},
   "source": [
    "### Revisiting the Data"
   ]
  },
  {
   "cell_type": "markdown",
   "metadata": {},
   "source": [
    "We're going to be using the same social pressure dataset, but with a tweak to how the treatment variable is recorded.\n",
    "\n",
    "In many datasets with experiments that have more than 2 treatment conditions (e.g., instead of just treatment and control, multiple treatments and control), which treatment condition a person is in is saved as a string. You'll see why in a moment."
   ]
  },
  {
   "cell_type": "code",
   "execution_count": null,
   "metadata": {},
   "outputs": [],
   "source": [
    "#RUN THIS CELL\n",
    "library(testthat)\n",
    "library(estimatr) # This loads the estimatr package, where the difference_in_means() function is from.\n",
    "\n",
    "social <- read.csv('ps3_week5_social_pressure_str.csv')\n",
    "head(social)"
   ]
  },
  {
   "cell_type": "markdown",
   "metadata": {},
   "source": [
    "Here's what the variables mean:\n",
    "\n",
    "- Outcome: `outcome_voted`: 1 if that particular person voted, 0 if not.\n",
    "- `treat` is now a string with the following values:\n",
    "    - `\"control\"`: assigned to control group\n",
    "    - `\"civic\"`: mail with \"do your civic duty\" message\n",
    "    - `\"hawthorne\"`: mail that says that the voter is being observed\n",
    "    - `\"self\"`: mail with own voting history\n",
    "    - `\"neighbors\"`: mail with own and neighbors' voting history\n",
    "- Other Variables:\n",
    "    - `sex`: 1 female, 0 male\n",
    "    - `yob`: year of birth\n",
    "    - `g2000`: voted in 2000 general election\n",
    "    - `g2002`: voted in 2002 general election\n",
    "    - `median_income`: median income in the last 12 months in person's neighborhood\n",
    "    - `p2004`: voted in 2004 primary election\n",
    "    - `democrat`: registered Democrat"
   ]
  },
  {
   "cell_type": "markdown",
   "metadata": {},
   "source": [
    "## Mean Turnout by Treatment Condition\n",
    "\n",
    "As we discussed, one of the interesting things about this experiment is that there isn't just one treatment group and one control group. Instead, there's a control group and several different treatment groups. Let's remind ourselves what these are:"
   ]
  },
  {
   "cell_type": "code",
   "execution_count": null,
   "metadata": {
    "scrolled": true
   },
   "outputs": [],
   "source": [
    "table(social$treat)"
   ]
  },
  {
   "cell_type": "markdown",
   "metadata": {},
   "source": [
    "Here's a reminder about the differences between the treatment conditions. The end of the notebook has pictures of all the mail sent to people in the various conditions if you want to take a look.\n",
    "    \n",
    "<table>\n",
    "<thead>\n",
    "  <tr>\n",
    "    <th>Condition</th>\n",
    "    <th>Mailed Reminder<br>to Vote?</th>\n",
    "    <th>Told Turnout<br>Being Watched</th>\n",
    "    <th>Given Own<br>Vote History</th>\n",
    "    <th>Neighbors and<br>Self Given All<br>Neighbors' Vote<br>History</th>\n",
    "  </tr>\n",
    "</thead>\n",
    "<tbody>\n",
    "  <tr>\n",
    "    <td>Control</td>\n",
    "    <td>No</td>\n",
    "    <td>No</td>\n",
    "    <td>No</td>\n",
    "    <td>No</td>\n",
    "  </tr>\n",
    "  <tr>\n",
    "    <td>Civic Duty</td>\n",
    "    <td>Yes</td>\n",
    "    <td>No</td>\n",
    "    <td>No</td>\n",
    "    <td>No</td>\n",
    "  </tr>\n",
    "  <tr>\n",
    "    <td>Hawthorne</td>\n",
    "    <td>Yes</td>\n",
    "    <td>Yes</td>\n",
    "    <td>No</td>\n",
    "    <td>No</td>\n",
    "  </tr>\n",
    "  <tr>\n",
    "    <td>Self</td>\n",
    "    <td>Yes</td>\n",
    "    <td>Yes</td>\n",
    "    <td>Yes</td>\n",
    "    <td>No</td>\n",
    "  </tr>\n",
    "  <tr>\n",
    "    <td>Neighbors</td>\n",
    "    <td>Yes</td>\n",
    "    <td>Yes</td>\n",
    "    <td>Yes</td>\n",
    "    <td>Yes</td>\n",
    "  </tr>\n",
    "</tbody>\n",
    "</table>"
   ]
  },
  {
   "cell_type": "markdown",
   "metadata": {},
   "source": [
    "Now, let's take a look at the the average turnout rate by treatment condition:"
   ]
  },
  {
   "cell_type": "code",
   "execution_count": null,
   "metadata": {
    "scrolled": true
   },
   "outputs": [],
   "source": [
    "# Don't worry about how this code works, just take a look at the results.\n",
    "data.frame(Condition = c('Control', 'Civic Duty', 'Hawthorne', 'Self', 'Neighbors'),\n",
    "          `Turnout Rate` = 100*with(social, c(mean(outcome_voted[treat=='control']), mean(outcome_voted[treat=='civic']),\n",
    "           mean(outcome_voted[treat=='hawthorne']), mean(outcome_voted[treat=='self']), mean(outcome_voted[treat=='neighbors']))))"
   ]
  },
  {
   "cell_type": "markdown",
   "metadata": {},
   "source": [
    "In the last class, we compared the Control group and the Neighbors group.\n",
    "\n",
    "But comparisons between other groups can be pretty interesting too! For example, we could compare the Control and Civic Duty groups to look at the effect of just sending some mail with a bland encouragement to vote. Or, we could compare the Civic Duty and Hawthorne groups -- how much does it increase turnout just to tell people they're being watched?\n",
    "\n",
    "Note that in each of these comparisons, there's always a **baseline**: we always look at the effect of something *relative to a baseline*. Usually in experiments the baseline is a control group, but when there are multiple treatment conditions, we can compare them to each other.\n",
    "\n",
    "For example, if we look at how much higher turnout is in the Hawthorne group than the Civic Duty group, the Civic Duty group would be the baseline (and we'd be computing average turnout in Hawthorne group minus average turnout in Civic Duty group)."
   ]
  },
  {
   "cell_type": "markdown",
   "metadata": {},
   "source": [
    "## Using the `difference_in_means()` function\n",
    "\n",
    "Let's compute the effect of the Hawthorne mailer.\n",
    "\n",
    "### Old way to comptue effect of Hawthorne mailer"
   ]
  },
  {
   "cell_type": "code",
   "execution_count": null,
   "metadata": {},
   "outputs": [],
   "source": [
    "# First, subset to just those assigned to Hawthorne mailer\n",
    "hawthorne.subset <- subset(social, treat == 'hawthorne')\n",
    "\n",
    "# Second, subset to the control group\n",
    "control.subset <- subset(social, treat == 'control')\n",
    "\n",
    "# Now, take the difference (this is already shorter than what you've learned before)\n",
    "hawthorne.effect <- mean(hawthorne.subset$outcome_voted) - mean(control.subset$outcome_voted)\n",
    "\n",
    "hawthorne.effect # Let's see the results."
   ]
  },
  {
   "cell_type": "markdown",
   "metadata": {},
   "source": [
    "### New way, using `difference_in_means()`\n",
    "\n",
    "Here's the generic recipe:\n",
    "\n",
    "`difference_in_means(outcome.name ~ treatment.name, dataset.name, condition1 = 'control.condition', condition2 = 'treatment.condition')`\n",
    "\n",
    "You'll replace:\n",
    "- `outcome.name` with the name of the variable name in the dataset that contains with the outcome\n",
    "- `treatment.name` with the name of the variable name in the dataset that contains the treatment variable\n",
    "- `dataset.name` with the name of the dataset\n",
    "- `'control.condition'` with whatever the *baseline* for comparison is (usually the control group name)\n",
    "- `'treatment.condition'` with whatever the *treatment* you're trying to estimate the effect of is (one of the treatment group names)\n",
    "\n",
    "(This is available in the <a href=\"https://bcourses.berkeley.edu/courses/1505753/pages/r-cheat-sheet\" target=\"_blank\">R Cheat Sheet</a>.)\n",
    "\n",
    "Let's see this for the effect of the Hawthorne mailer:"
   ]
  },
  {
   "cell_type": "code",
   "execution_count": null,
   "metadata": {
    "scrolled": false
   },
   "outputs": [],
   "source": [
    "hawth_effect <- difference_in_means(outcome_voted ~ treat, social, condition1 = 'control', condition2 = 'hawthorne')\n",
    "hawth_effect"
   ]
  },
  {
   "cell_type": "markdown",
   "metadata": {},
   "source": [
    "For now, we are just going to focus on the first number, under `Estimate`. It matches what we found using the old way!\n",
    "\n",
    "There's three advantages of this new approach:\n",
    "\n",
    "1. One-liner!\n",
    "2. Starting next week, we'll look at the other numbers here (e.g., `Std. Error`) and interpret them.\n",
    "3. Easy to look at different comparisions. Let's look at this next.\n",
    "\n",
    "### Reminder: What does the estimate mean?\n",
    "\n",
    "Reminder: The estimate is **our best guess of the true average treatment effect**.\n",
    "\n",
    "In Week 4, we covered what it is we are trying to estimate: the true average treatment effect. Because we can never see all the potential outcomes in a real-world dataset, we can never know the exact true average treatment effect. But an estimate from an experiment represents our best guess of what the true average treatment effect is in that dataset."
   ]
  },
  {
   "cell_type": "markdown",
   "metadata": {},
   "source": [
    "### Comparing two treatment conditions\n",
    "\n",
    "Earlier, we compared the Hawthrone condition to the Control group.\n",
    "\n",
    "Suppose a researcher had a *theory* that telling people they are being studied has a big effect on people's behavior.\n",
    "\n",
    "(This is actually a common idea, called the Hawthorne effect, which <a href=\"https://en.wikipedia.org/wiki/Hawthorne_effect\" target=\"_blank\">Wikipedia helpfully defines</a> as when \"individuals modify an aspect of their behavior in response to their awareness of being observed.\" There's some fun stories on that webpage if you have a few minutes.)\n",
    "\n",
    "Can we do a good job of testing this theory by comparing how often people voted in the Hawthorne and Control groups? That is, can we tell whether just telling people they are being studied has a an effect on their behavior?\n",
    "\n",
    "Let's look at this table again:\n",
    "\n",
    "<table>\n",
    "<thead>\n",
    "  <tr>\n",
    "    <th>Condition</th>\n",
    "    <th>Mailed Reminder<br>to Vote?</th>\n",
    "    <th>Told Turnout<br>Being Watched</th>\n",
    "    <th>Given Own<br>Vote History</th>\n",
    "    <th>Neighbors and<br>Self Given All<br>Neighbors' Vote<br>History</th>\n",
    "  </tr>\n",
    "</thead>\n",
    "<tbody>\n",
    "  <tr>\n",
    "    <td>Control</td>\n",
    "    <td>No</td>\n",
    "    <td>No</td>\n",
    "    <td>No</td>\n",
    "    <td>No</td>\n",
    "  </tr>\n",
    "  <tr>\n",
    "    <td>Civic Duty</td>\n",
    "    <td>Yes</td>\n",
    "    <td>No</td>\n",
    "    <td>No</td>\n",
    "    <td>No</td>\n",
    "  </tr>\n",
    "  <tr>\n",
    "    <td>Hawthorne</td>\n",
    "    <td>Yes</td>\n",
    "    <td>Yes</td>\n",
    "    <td>No</td>\n",
    "    <td>No</td>\n",
    "  </tr>\n",
    "  <tr>\n",
    "    <td>Self</td>\n",
    "    <td>Yes</td>\n",
    "    <td>Yes</td>\n",
    "    <td>Yes</td>\n",
    "    <td>No</td>\n",
    "  </tr>\n",
    "  <tr>\n",
    "    <td>Neighbors</td>\n",
    "    <td>Yes</td>\n",
    "    <td>Yes</td>\n",
    "    <td>Yes</td>\n",
    "    <td>Yes</td>\n",
    "  </tr>\n",
    "</tbody>\n",
    "</table>\n",
    "\n",
    "Just comparing the Hawthorne condition and the Control group isn't a great way to test this theory, because the Hawthrone condition is both told they are being monitor *and* mailed a reminder to vote.\n",
    "\n",
    "So, it would be nice to hold constant whether people got a reminder to vote, and just vary whether they're being told they're being studied. To do this, we can compare the Hawthorne group to the Civic duty group."
   ]
  },
  {
   "cell_type": "code",
   "execution_count": null,
   "metadata": {
    "scrolled": true
   },
   "outputs": [],
   "source": [
    "hawth_vs_civic <- difference_in_means(outcome_voted ~ treat, social, condition1 = 'civic', condition2 = 'hawthorne')\n",
    "\n",
    "hawth_vs_civic # Let's look at what we computed. (Don't change this line.)"
   ]
  },
  {
   "cell_type": "markdown",
   "metadata": {},
   "source": [
    "The fact that the Hawthorne mailing group a) had much higher turnout than the control group b) but didn't have much higher turnout than the Civic Duty group suggests that the Civic Duty condition had an effect on turnout almost as strong as the Hawthorne condition. We can double check that this is the case by running another version of the `difference_in_means()` function, this time looking at the effect of the Civic Duty condition relative to the Control group."
   ]
  },
  {
   "cell_type": "code",
   "execution_count": null,
   "metadata": {},
   "outputs": [],
   "source": [
    "difference_in_means(outcome_voted ~ treat, social, condition1 = 'control', condition2 = 'civic')"
   ]
  },
  {
   "cell_type": "markdown",
   "metadata": {},
   "source": [
    "### Quick FYI - R packages\n",
    "\n",
    "At the beginning, I mentioned that `difference_in_means()` is from the `estimatr` R package.\n",
    "\n",
    "What is an R \"package\"?\n",
    "\n",
    "One of the cool things about R is that people have built free packages for it. Packages are like apps for your phone, but for R. You can get them for free (usually) and install them, and they let R do new things. `estimatr` is one of those apps (package), and one of its features is the `difference_in_means()` function. Running `library(estimatr)` at the top of the notebook tells R to \"install this app\" (load the package)."
   ]
  },
  {
   "cell_type": "markdown",
   "metadata": {},
   "source": [
    "# Appendix: Mail Images\n",
    "\n",
    "If you want to take a closer look at the treatment groups:\n",
    "\n",
    "#### Civic Duty Mailer\n",
    "<img src=\"mail_images/civic_duty.png\" width=\"500\"/>\n",
    "\n",
    "#### \"Hawthorne\" Mailer\n",
    "<img src=\"mail_images/hawthorne.png\" width=\"500\"/>\n",
    "\n",
    "#### \"Self\" Mailer\n",
    "<img src=\"mail_images/self.png\" width=\"500\"/>\n",
    "\n",
    "#### \"Neighbors\" Mailer\n",
    "<img src=\"mail_images/neighbors.png\" width=\"500\"/>"
   ]
  }
 ],
 "metadata": {
  "celltoolbar": "Raw Cell Format",
  "kernelspec": {
   "display_name": "R",
   "language": "R",
   "name": "ir"
  },
  "language_info": {
   "codemirror_mode": "r",
   "file_extension": ".r",
   "mimetype": "text/x-r-source",
   "name": "R",
   "pygments_lexer": "r",
   "version": "4.1.2"
  },
  "latex_envs": {
   "LaTeX_envs_menu_present": true,
   "autoclose": false,
   "autocomplete": true,
   "bibliofile": "biblio.bib",
   "cite_by": "apalike",
   "current_citInitial": 1,
   "eqLabelWithNumbers": true,
   "eqNumInitial": 1,
   "hotkeys": {
    "equation": "Ctrl-E",
    "itemize": "Ctrl-I"
   },
   "labels_anchors": false,
   "latex_user_defs": false,
   "report_style_numbering": false,
   "user_envs_cfg": false
  }
 },
 "nbformat": 4,
 "nbformat_minor": 2
}
