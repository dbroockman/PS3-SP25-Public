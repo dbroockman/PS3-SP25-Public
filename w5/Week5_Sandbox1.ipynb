{
 "cells": [
  {
   "cell_type": "markdown",
   "id": "eaa4606d",
   "metadata": {},
   "source": [
    "## Week 5, Sandbox Notebook 1"
   ]
  },
  {
   "cell_type": "code",
   "execution_count": null,
   "id": "5e28dc25",
   "metadata": {
    "scrolled": false
   },
   "outputs": [],
   "source": [
    "social <- read.csv('ps3_week5_social_pressure.csv')\n",
    "head(social)"
   ]
  },
  {
   "cell_type": "markdown",
   "id": "453620dc",
   "metadata": {},
   "source": [
    "Here's what the variables mean:\n",
    "\n",
    "- Outcome: `outcome_voted`: 1 if that particular person voted, 0 if not.\n",
    "- Treatments:\n",
    "    - `control_group` : 1 if assigned in control group and 0 otherwise.\n",
    "    - `treat_civic`: mail with \"do your civic duty\" message, 1 if assigned and 0 otherwise.\n",
    "    - `treat_hawthorne`: mail that says that the voter is being observed, 1 if assigned and 0 otherwise.\n",
    "    - `treat_self`: mail with own voting history, 1 if assigned and 0 otherwise.\n",
    "    - `treat_neighbors`: mail with own and neighbors' voting history, 1 if assigned and 0 otherwise.\n",
    "- Other Variables:\n",
    "    - `sex`: 1 female, 0 male\n",
    "    - `yob`: year of birth\n",
    "    - `g2000`: voted in 2000 general election\n",
    "    - `g2002`: voted in 2002 general election\n",
    "    - `median_income`: median income in the last 12 months in person's neighborhood\n",
    "    - `p2004`: voted in 2004 primary election\n",
    "    - `democrat`: registered Democrat\n",
    "   \n",
    "### Reminder about Treatment Conditions\n",
    "\n",
    "Here's a reminder about the differences between the treatment conditions. In the table below, each row is one of the conditions, and the columns tell about the mail sent to the people in that condition. The end of the notebook has pictures of all the mail sent to people in the various conditions if you want to take a look.\n",
    "    \n",
    "<table>\n",
    "<thead>\n",
    "  <tr>\n",
    "    <th>Condition</th>\n",
    "    <th>Mailed Reminder<br>to Vote?</th>\n",
    "    <th>Told Turnout<br>Being Watched</th>\n",
    "    <th>Given Own<br>Vote History</th>\n",
    "    <th>Neighbors and<br>Self Given All<br>Neighbors' Vote<br>History</th>\n",
    "  </tr>\n",
    "</thead>\n",
    "<tbody>\n",
    "  <tr>\n",
    "    <td>Control</td>\n",
    "    <td>No</td>\n",
    "    <td>No</td>\n",
    "    <td>No</td>\n",
    "    <td>No</td>\n",
    "  </tr>\n",
    "  <tr>\n",
    "    <td>Civic Duty</td>\n",
    "    <td>Yes</td>\n",
    "    <td>No</td>\n",
    "    <td>No</td>\n",
    "    <td>No</td>\n",
    "  </tr>\n",
    "  <tr>\n",
    "    <td>Hawthorne</td>\n",
    "    <td>Yes</td>\n",
    "    <td>Yes</td>\n",
    "    <td>No</td>\n",
    "    <td>No</td>\n",
    "  </tr>\n",
    "  <tr>\n",
    "    <td>Self</td>\n",
    "    <td>Yes</td>\n",
    "    <td>Yes</td>\n",
    "    <td>Yes</td>\n",
    "    <td>No</td>\n",
    "  </tr>\n",
    "  <tr>\n",
    "    <td>Neighbors</td>\n",
    "    <td>Yes</td>\n",
    "    <td>Yes</td>\n",
    "    <td>Yes</td>\n",
    "    <td>Yes</td>\n",
    "  </tr>\n",
    "</tbody>\n",
    "</table>"
   ]
  },
  {
   "cell_type": "code",
   "execution_count": null,
   "id": "3f6127e7",
   "metadata": {},
   "outputs": [],
   "source": [
    "# Write your own code here"
   ]
  },
  {
   "cell_type": "code",
   "execution_count": null,
   "id": "8078ab0e",
   "metadata": {},
   "outputs": [],
   "source": [
    "# Write your own code here"
   ]
  },
  {
   "cell_type": "code",
   "execution_count": null,
   "id": "b24be0dd",
   "metadata": {},
   "outputs": [],
   "source": [
    "# Write your own code here"
   ]
  },
  {
   "cell_type": "code",
   "execution_count": null,
   "id": "3f325149",
   "metadata": {},
   "outputs": [],
   "source": [
    "# Write your own code here"
   ]
  },
  {
   "cell_type": "code",
   "execution_count": null,
   "id": "c79bad5c",
   "metadata": {},
   "outputs": [],
   "source": [
    "# Write your own code here"
   ]
  },
  {
   "cell_type": "code",
   "execution_count": null,
   "id": "f923f980",
   "metadata": {},
   "outputs": [],
   "source": [
    "# Write your own code here"
   ]
  },
  {
   "cell_type": "code",
   "execution_count": null,
   "id": "60e1559c",
   "metadata": {},
   "outputs": [],
   "source": [
    "# Write your own code here"
   ]
  },
  {
   "cell_type": "code",
   "execution_count": null,
   "id": "3d15ef2e",
   "metadata": {},
   "outputs": [],
   "source": [
    "# Write your own code here"
   ]
  },
  {
   "cell_type": "code",
   "execution_count": null,
   "id": "c43d02a1",
   "metadata": {},
   "outputs": [],
   "source": [
    "# Write your own code here"
   ]
  }
 ],
 "metadata": {
  "kernelspec": {
   "display_name": "R",
   "language": "R",
   "name": "ir"
  },
  "language_info": {
   "codemirror_mode": "r",
   "file_extension": ".r",
   "mimetype": "text/x-r-source",
   "name": "R",
   "pygments_lexer": "r",
   "version": "4.0.3"
  },
  "latex_envs": {
   "LaTeX_envs_menu_present": true,
   "autoclose": false,
   "autocomplete": true,
   "bibliofile": "biblio.bib",
   "cite_by": "apalike",
   "current_citInitial": 1,
   "eqLabelWithNumbers": true,
   "eqNumInitial": 1,
   "hotkeys": {
    "equation": "Ctrl-E",
    "itemize": "Ctrl-I"
   },
   "labels_anchors": false,
   "latex_user_defs": false,
   "report_style_numbering": false,
   "user_envs_cfg": false
  }
 },
 "nbformat": 4,
 "nbformat_minor": 5
}
