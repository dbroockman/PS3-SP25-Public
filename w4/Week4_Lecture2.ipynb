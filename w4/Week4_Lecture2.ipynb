{
 "cells": [
  {
   "cell_type": "markdown",
   "metadata": {},
   "source": [
    "# POLSCI 3\n",
    "\n",
    "## Week 4, Lecture Notebook 2: Revisiting Omitted Variable/Selection Bias\n",
    "\n",
    "### Learning to use `&` while subsetting\n",
    "\n",
    "We'll continue using the wellness data from earlier this week, although this time we'll be using the real data. This means we won't be able to see both potential outcomes for everyone -- only the outcome given the treatment they actually got."
   ]
  },
  {
   "cell_type": "markdown",
   "metadata": {},
   "source": [
    "### This time, real data"
   ]
  },
  {
   "cell_type": "markdown",
   "metadata": {},
   "source": [
    "Let's read in the wellness dataset and recap what each of the variables represent. "
   ]
  },
  {
   "cell_type": "code",
   "execution_count": null,
   "metadata": {},
   "outputs": [],
   "source": [
    "library(testthat)\n",
    "wellness <- read.csv('ps3_wellness_real.csv')\n",
    "head(wellness)"
   ]
  },
  {
   "cell_type": "markdown",
   "metadata": {},
   "source": [
    "This dataset contains real data on participants in a wellness program. Each row represents a unique respondent, and the data measures medical expenditure before and after the wellness treatment. Here is more information about the variables:\n",
    "\n",
    "`id`: Respondent ID (anonymized identifier for each respondent)\n",
    "\n",
    "`treat`: Whether or not the treatment was offered to the participant (treatment here is the wellness program)\n",
    "\n",
    "`participate`: Dummy indicating whether respondent **actually participated** in the wellness program\n",
    "\n",
    "`baseline`: Amount of monthly average medical costs at baseline; that is, before the program started.\n",
    "\n",
    "`outcome_post`: Monthly cost of medical care for this person after the workplace wellness program started (regardless of whether they participated or not)."
   ]
  },
  {
   "cell_type": "markdown",
   "metadata": {},
   "source": [
    "### Using `&` while subsetting"
   ]
  },
  {
   "cell_type": "markdown",
   "metadata": {},
   "source": [
    "Let's say we want to subset down to people who were in the treatment group (so `treat == 1`) *and* chose to participate in the program (so `participate == 1`).\n",
    "\n",
    "#### Old way"
   ]
  },
  {
   "cell_type": "code",
   "execution_count": null,
   "metadata": {},
   "outputs": [],
   "source": [
    "treatment.group <- subset(wellness, treat == 1)\n",
    "treatment.group.and.participated <- subset(treatment.group, participate == 1)\n",
    "head(treatment.group.and.participated) # Let's make sure this looks right."
   ]
  },
  {
   "cell_type": "markdown",
   "metadata": {},
   "source": [
    "#### Easier way!"
   ]
  },
  {
   "cell_type": "code",
   "execution_count": null,
   "metadata": {},
   "outputs": [],
   "source": [
    "treatment.group.and.participated <- subset(wellness, treat == 1 & participate == 1)\n",
    "head(treatment.group.and.participated) # Let's make sure this looks right."
   ]
  }
 ],
 "metadata": {
  "kernelspec": {
   "display_name": "R",
   "language": "R",
   "name": "ir"
  },
  "language_info": {
   "codemirror_mode": "r",
   "file_extension": ".r",
   "mimetype": "text/x-r-source",
   "name": "R",
   "pygments_lexer": "r",
   "version": "4.1.2"
  },
  "latex_envs": {
   "LaTeX_envs_menu_present": true,
   "autoclose": false,
   "autocomplete": true,
   "bibliofile": "biblio.bib",
   "cite_by": "apalike",
   "current_citInitial": 1,
   "eqLabelWithNumbers": true,
   "eqNumInitial": 1,
   "hotkeys": {
    "equation": "Ctrl-E",
    "itemize": "Ctrl-I"
   },
   "labels_anchors": false,
   "latex_user_defs": false,
   "report_style_numbering": false,
   "user_envs_cfg": false
  }
 },
 "nbformat": 4,
 "nbformat_minor": 2
}
