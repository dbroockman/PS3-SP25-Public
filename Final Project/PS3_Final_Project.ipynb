{
 "cells": [
  {
   "cell_type": "markdown",
   "id": "9691d8d1",
   "metadata": {},
   "source": [
    "# PS 3 Final Project"
   ]
  },
  {
   "cell_type": "markdown",
   "id": "9d9da99f",
   "metadata": {},
   "source": [
    "Enter your name here: YOUR NAME HERE. (Double click to edit, then hit Run to save.)"
   ]
  },
  {
   "cell_type": "markdown",
   "id": "5e301fd6",
   "metadata": {},
   "source": [
    "## Project Theory Hypothesis/Hypotheses\n",
    "\n",
    "Explain your theory and hypothesis/hypotheses here. (Double click to edit, then hit Run to save.)"
   ]
  },
  {
   "cell_type": "markdown",
   "id": "a759dc70",
   "metadata": {},
   "source": [
    "## Project Procedures\n",
    "\n",
    "Explain the procedures you used to collect your data. E.g., what survey questions did you ask? Who completed your surveys? Etc. (Double click to edit, then hit Run to save.)"
   ]
  },
  {
   "cell_type": "markdown",
   "id": "336e9127",
   "metadata": {},
   "source": [
    "## Data\n",
    "\n",
    "Replace the `...` below with the name of your dataset and read in your data."
   ]
  },
  {
   "cell_type": "code",
   "execution_count": null,
   "id": "0287fbaf",
   "metadata": {},
   "outputs": [],
   "source": [
    "data <- read.csv(\"...\") # Replace the ... with the name of your dataset\n",
    "head(data)"
   ]
  },
  {
   "cell_type": "code",
   "execution_count": null,
   "id": "0c07d2d4",
   "metadata": {},
   "outputs": [],
   "source": [
    "# This cell reads in the estimatr and ggplot2 packages in case you decide to use them.\n",
    "library(estimatr)\n",
    "library(ggplot2)"
   ]
  },
  {
   "cell_type": "markdown",
   "id": "16f2e4f0",
   "metadata": {
    "editable": false
   },
   "source": [
    "### Codebook"
   ]
  },
  {
   "cell_type": "markdown",
   "id": "02a5d168",
   "metadata": {},
   "source": [
    "Write a codebook explaining what your variables mean here. (Double click to edit, then hit Run to save.)"
   ]
  },
  {
   "cell_type": "markdown",
   "id": "5d89d794",
   "metadata": {
    "editable": false
   },
   "source": [
    "### Results"
   ]
  },
  {
   "cell_type": "code",
   "execution_count": null,
   "id": "1fe82720",
   "metadata": {},
   "outputs": [],
   "source": [
    "# WRITE SOME CODE HERE"
   ]
  },
  {
   "cell_type": "markdown",
   "id": "46f3b7dc",
   "metadata": {},
   "source": [
    "Explain what the code you just ran did and found here. (Double click to edit, then hit Run to save.)"
   ]
  },
  {
   "cell_type": "code",
   "execution_count": null,
   "id": "2f535f29",
   "metadata": {},
   "outputs": [],
   "source": [
    "# WRITE SOME CODE HERE"
   ]
  },
  {
   "cell_type": "markdown",
   "id": "bd38370c",
   "metadata": {},
   "source": [
    "Explain what the code you just ran did and found here. (Double click to edit, then hit Run to save.)"
   ]
  },
  {
   "cell_type": "code",
   "execution_count": null,
   "id": "0bf70f5a",
   "metadata": {},
   "outputs": [],
   "source": [
    "# WRITE SOME CODE HERE"
   ]
  },
  {
   "cell_type": "markdown",
   "id": "3079c5a4",
   "metadata": {},
   "source": [
    "Explain what the code you just ran did and found here. (Double click to edit, then hit Run to save.)"
   ]
  },
  {
   "cell_type": "code",
   "execution_count": null,
   "id": "12da118e",
   "metadata": {},
   "outputs": [],
   "source": [
    "# WRITE SOME CODE HERE"
   ]
  },
  {
   "cell_type": "markdown",
   "id": "13721659",
   "metadata": {},
   "source": [
    "Explain what the code you just ran did and found here. (Double click to edit, then hit Run to save.)"
   ]
  },
  {
   "cell_type": "markdown",
   "id": "1dd395ae",
   "metadata": {
    "editable": false
   },
   "source": [
    "### Discussion"
   ]
  },
  {
   "cell_type": "markdown",
   "id": "48fdbc55",
   "metadata": {},
   "source": [
    "In this section, discuss your overall conclusions as well as the limitations of your study."
   ]
  },
  {
   "cell_type": "markdown",
   "id": "0c3c7448",
   "metadata": {
    "editable": false
   },
   "source": [
    "-----\n",
    "\n",
    "# Submitting Your Notebook (please read carefully!)\n",
    "\n",
    "To submit your notebook...\n",
    "\n",
    "### 1. Click `File` $\\rightarrow$ `Save and Checkpoint`.\n",
    "\n",
    "### 2. Wait 5 seconds.\n",
    "\n",
    "### 3. Click `File` $\\rightarrow$ `Download as` $\\rightarrow$ `PDF via LaTeX`.\n",
    "\n",
    "### 4. Upload the PDF on bCourses."
   ]
  }
 ],
 "metadata": {
  "kernelspec": {
   "display_name": "R",
   "language": "R",
   "name": "ir"
  },
  "language_info": {
   "codemirror_mode": "r",
   "file_extension": ".r",
   "mimetype": "text/x-r-source",
   "name": "R",
   "pygments_lexer": "r",
   "version": "4.1.2"
  }
 },
 "nbformat": 4,
 "nbformat_minor": 5
}
