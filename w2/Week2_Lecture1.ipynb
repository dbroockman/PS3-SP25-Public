{
 "cells": [
  {
   "cell_type": "markdown",
   "metadata": {
    "slideshow": {
     "slide_type": "slide"
    },
    "tags": [
     "include"
    ]
   },
   "source": [
    "# POLSCI 3\n",
    "\n",
    "## Week 2, Lecture 1: Analyzing Data using R in Jupyter Notebooks\n"
   ]
  },
  {
   "cell_type": "markdown",
   "metadata": {
    "slideshow": {
     "slide_type": "fragment"
    },
    "tags": [
     "include"
    ]
   },
   "source": [
    "Welcome! In this notebook, you will learn how how to use Jupyter Notebooks (like this one!) and the R programming language to analyze quantitative data."
   ]
  },
  {
   "cell_type": "markdown",
   "metadata": {
    "slideshow": {
     "slide_type": "slide"
    },
    "tags": [
     "include"
    ]
   },
   "source": [
    "# Jupyter Notebooks"
   ]
  },
  {
   "cell_type": "markdown",
   "metadata": {
    "slideshow": {
     "slide_type": "fragment"
    },
    "tags": [
     "include"
    ]
   },
   "source": [
    "A Jupyter Notebook is an online, interactive computing environment, composed of different types of __cells__. Cells are chunks of code or text that are used to break up a larger notebook into smaller, more manageable parts and to let the viewer modify and interact with the elements of the notebook.\n",
    "\n",
    "There's a few advantages of Jupyter notebooks for a class like PS 3:\n",
    "\n",
    "- You don't need to install software on your computer (and potentially have to troubleshoot it if it doesn't work).\n",
    "- Some questions can be *auto-graded*, so you'll get your grades within minutes -- and your GSIs will have extra time to help you if you're stuck.\n",
    "- For your *group* assignments, you'll see whether you got the right answer *as you're working on the assignment*!"
   ]
  },
  {
   "cell_type": "markdown",
   "metadata": {},
   "source": [
    "Notice that the notebook consists of 2 different kinds of cells: **text** and **code**. A text cell (like this one) contains text, while a code cell contains expressions in R, the programming language that you will be using. "
   ]
  },
  {
   "cell_type": "markdown",
   "metadata": {
    "slideshow": {
     "slide_type": "slide"
    },
    "tags": [
     "include"
    ]
   },
   "source": [
    "### Running Cells"
   ]
  },
  {
   "cell_type": "markdown",
   "metadata": {
    "slideshow": {
     "slide_type": "subslide"
    },
    "tags": [
     "include"
    ]
   },
   "source": [
    "\"Running\" a cell is similar to pressing 'Enter' on a calculator once you've typed in an expression; it computes all of the expressions contained within the cell.\n",
    "\n",
    "To run a code cell, you can do one of the following:\n",
    "- press __Shift + Enter__\n",
    "- click __-> Run__ in the toolbar at the top of the screen.\n",
    "\n",
    "You can navigate the cells by either clicking on them or by using your up and down arrow keys. Try running the cell below to see what happens. "
   ]
  },
  {
   "cell_type": "code",
   "execution_count": null,
   "metadata": {
    "scrolled": true,
    "slideshow": {
     "slide_type": "subslide"
    },
    "tags": [
     "include"
    ]
   },
   "outputs": [],
   "source": [
    "5 + 5"
   ]
  },
  {
   "cell_type": "markdown",
   "metadata": {
    "tags": [
     "include"
    ]
   },
   "source": [
    "The input of the cell consists of the text/code that is contained within the cell's enclosing box. Here, the input is an expression in R that \"prints\" or repeats whatever text or number is passed in. \n",
    "\n",
    "The output of running a cell is shown in the line immediately after it. Notice that markdown (text) cells have no output."
   ]
  },
  {
   "cell_type": "markdown",
   "metadata": {},
   "source": [
    "Each line of a cell runs an operation."
   ]
  },
  {
   "cell_type": "code",
   "execution_count": 1,
   "metadata": {
    "tags": [
     "include"
    ]
   },
   "outputs": [
    {
     "data": {
      "text/html": [
       "40"
      ],
      "text/latex": [
       "40"
      ],
      "text/markdown": [
       "40"
      ],
      "text/plain": [
       "[1] 40"
      ]
     },
     "metadata": {},
     "output_type": "display_data"
    }
   ],
   "source": [
    "# Addition\n",
    "20 + 20"
   ]
  },
  {
   "cell_type": "code",
   "execution_count": 2,
   "metadata": {
    "tags": [
     "include"
    ]
   },
   "outputs": [
    {
     "data": {
      "text/html": [
       "85"
      ],
      "text/latex": [
       "85"
      ],
      "text/markdown": [
       "85"
      ],
      "text/plain": [
       "[1] 85"
      ]
     },
     "metadata": {},
     "output_type": "display_data"
    }
   ],
   "source": [
    "# Multiplication\n",
    "10 * 8.5"
   ]
  },
  {
   "cell_type": "code",
   "execution_count": 3,
   "metadata": {
    "tags": [
     "include"
    ]
   },
   "outputs": [
    {
     "data": {
      "text/html": [
       "25"
      ],
      "text/latex": [
       "25"
      ],
      "text/markdown": [
       "25"
      ],
      "text/plain": [
       "[1] 25"
      ]
     },
     "metadata": {},
     "output_type": "display_data"
    }
   ],
   "source": [
    "# Division\n",
    "625 / 25"
   ]
  },
  {
   "cell_type": "code",
   "execution_count": null,
   "metadata": {
    "tags": [
     "include"
    ]
   },
   "outputs": [],
   "source": [
    "# A series of arithmetic operations\n",
    "(2 - 4 * 5 + 7) + 18 * 2"
   ]
  },
  {
   "cell_type": "markdown",
   "metadata": {
    "tags": [
     "include"
    ]
   },
   "source": [
    "Note that code after a # (hashtag) is not run, so we use lines starting with hashtags to add comments or notes on our code. Here's an example."
   ]
  },
  {
   "cell_type": "code",
   "execution_count": 4,
   "metadata": {
    "tags": [
     "include"
    ]
   },
   "outputs": [
    {
     "data": {
      "text/html": [
       "18"
      ],
      "text/latex": [
       "18"
      ],
      "text/markdown": [
       "18"
      ],
      "text/plain": [
       "[1] 18"
      ]
     },
     "metadata": {},
     "output_type": "display_data"
    }
   ],
   "source": [
    "#By using a comment at the beginning of the cell, we can describe what will occur when you run the cell.\n",
    "# Add ten to 8\n",
    "10 + 8 # Note how we can add a comment after the expression"
   ]
  },
  {
   "cell_type": "code",
   "execution_count": 5,
   "metadata": {},
   "outputs": [
    {
     "data": {
      "text/html": [
       "4"
      ],
      "text/latex": [
       "4"
      ],
      "text/markdown": [
       "4"
      ],
      "text/plain": [
       "[1] 4"
      ]
     },
     "metadata": {},
     "output_type": "display_data"
    },
    {
     "data": {
      "text/html": [
       "10"
      ],
      "text/latex": [
       "10"
      ],
      "text/markdown": [
       "10"
      ],
      "text/plain": [
       "[1] 10"
      ]
     },
     "metadata": {},
     "output_type": "display_data"
    }
   ],
   "source": [
    "# If you create two lines, each line will run on its own.\n",
    "2 + 2\n",
    "5 + 5"
   ]
  },
  {
   "cell_type": "markdown",
   "metadata": {
    "tags": [
     "include"
    ]
   },
   "source": [
    "### R Variables"
   ]
  },
  {
   "cell_type": "markdown",
   "metadata": {
    "tags": [
     "include"
    ]
   },
   "source": [
    "Aside from numbers, R has **variables**, names that act as placeholders for certain values. For example, let the variables `x` and `y` equal 10 and 9, respectively. This action is called \"assigning\" a variable."
   ]
  },
  {
   "cell_type": "code",
   "execution_count": 6,
   "metadata": {
    "tags": [
     "include"
    ]
   },
   "outputs": [],
   "source": [
    "# Assign your variable by using <-\n",
    "x <- 10\n",
    "y <- 9"
   ]
  },
  {
   "cell_type": "markdown",
   "metadata": {
    "tags": [
     "include"
    ]
   },
   "source": [
    "Notice that assigning a number to a variable name such as `x` produces no output. To view the value of x, place it at the end of a coding cell, like below."
   ]
  },
  {
   "cell_type": "code",
   "execution_count": 7,
   "metadata": {
    "tags": [
     "include"
    ]
   },
   "outputs": [
    {
     "data": {
      "text/html": [
       "10"
      ],
      "text/latex": [
       "10"
      ],
      "text/markdown": [
       "10"
      ],
      "text/plain": [
       "[1] 10"
      ]
     },
     "metadata": {},
     "output_type": "display_data"
    }
   ],
   "source": [
    "x"
   ]
  },
  {
   "cell_type": "markdown",
   "metadata": {
    "tags": [
     "include"
    ]
   },
   "source": [
    "Now, we can use the variables `x` and `y` in expressions."
   ]
  },
  {
   "cell_type": "code",
   "execution_count": null,
   "metadata": {
    "tags": [
     "include"
    ]
   },
   "outputs": [],
   "source": [
    "10 + 9"
   ]
  },
  {
   "cell_type": "code",
   "execution_count": null,
   "metadata": {
    "tags": [
     "include"
    ]
   },
   "outputs": [],
   "source": [
    "x + y"
   ]
  },
  {
   "cell_type": "markdown",
   "metadata": {
    "tags": [
     "include"
    ]
   },
   "source": [
    "Now what happens when the value of `x` changes?"
   ]
  },
  {
   "cell_type": "code",
   "execution_count": null,
   "metadata": {
    "tags": [
     "include"
    ]
   },
   "outputs": [],
   "source": [
    "x <- 12 * 2"
   ]
  },
  {
   "cell_type": "markdown",
   "metadata": {
    "tags": [
     "include"
    ]
   },
   "source": [
    "Then, the value of expressions that rely on `x` also change."
   ]
  },
  {
   "cell_type": "code",
   "execution_count": null,
   "metadata": {
    "tags": [
     "include"
    ]
   },
   "outputs": [],
   "source": [
    "x"
   ]
  },
  {
   "cell_type": "code",
   "execution_count": null,
   "metadata": {},
   "outputs": [],
   "source": [
    "x + y"
   ]
  },
  {
   "cell_type": "markdown",
   "metadata": {
    "tags": [
     "include"
    ]
   },
   "source": [
    "**This is why the order in which you run code cells is important.** The expression `x + y` can yield different results depending on which cells you ran before."
   ]
  },
  {
   "cell_type": "code",
   "execution_count": null,
   "metadata": {
    "tags": [
     "include"
    ]
   },
   "outputs": [],
   "source": [
    "x <- 5\n",
    "y <- 20\n",
    "x + y"
   ]
  },
  {
   "cell_type": "markdown",
   "metadata": {
    "tags": [
     "include"
    ]
   },
   "source": [
    "What happens if you try to use a variable without assigning it to a value first?"
   ]
  },
  {
   "cell_type": "code",
   "execution_count": null,
   "metadata": {
    "tags": [
     "include"
    ]
   },
   "outputs": [],
   "source": [
    "x + y + z"
   ]
  },
  {
   "cell_type": "markdown",
   "metadata": {
    "tags": [
     "include"
    ]
   },
   "source": [
    "You'll see that R outputs a `Error in eval`. R tried to find the value of `z`, but `z` hadn't been defined yet!\n",
    "\n",
    "**Important:** If you see this error again in this notebook or in future notebooks, it is an indication that you might not have run all the previous cells or that you might be using variables without assigning values to them first.\n",
    "\n",
    "Run the next cell to define `z`"
   ]
  },
  {
   "cell_type": "code",
   "execution_count": null,
   "metadata": {
    "tags": [
     "include"
    ]
   },
   "outputs": [],
   "source": [
    "# Defining z here\n",
    "z <- 2019"
   ]
  },
  {
   "cell_type": "code",
   "execution_count": null,
   "metadata": {
    "tags": [
     "include"
    ]
   },
   "outputs": [],
   "source": [
    "# Good to go! Now that we've assigned a value to z, the code runs.\n",
    "x + y + z"
   ]
  },
  {
   "cell_type": "markdown",
   "metadata": {
    "tags": [
     "include"
    ]
   },
   "source": [
    "## Reading in and Using Datasets"
   ]
  },
  {
   "cell_type": "markdown",
   "metadata": {},
   "source": [
    "R is meant to be used as a tool for statistical computing and graphics. Naturally, R allows us to read in data sets.\n",
    "\n",
    "During most of the semester, we're going to be reading in real datasets from real studies about about the real world.\n",
    "\n",
    "But first we'll start with something simple. In the next cell, we will read a comma-separated values **(CSV) file** that includes the sales of the three most popular clothes at the Cal Berkeley store! (This is fake, obviously.) We *assign* this dataset to a variable named `berkeleyStore`."
   ]
  },
  {
   "cell_type": "code",
   "execution_count": 1,
   "metadata": {},
   "outputs": [],
   "source": [
    "# This stores, or assigns, the dataset as berkeleyStore\n",
    "berkeleyStore <- read.csv('lecture_notebook1.csv')"
   ]
  },
  {
   "cell_type": "markdown",
   "metadata": {},
   "source": [
    "Running the name of the dataset by itself prints out the data set. **For the in-class assignment, you'll use the approach in the next cell to answer Question 1.**"
   ]
  },
  {
   "cell_type": "code",
   "execution_count": 2,
   "metadata": {},
   "outputs": [
    {
     "data": {
      "text/html": [
       "<table class=\"dataframe\">\n",
       "<caption>A data.frame: 5 × 4</caption>\n",
       "<thead>\n",
       "\t<tr><th scope=col>Month</th><th scope=col>Hoodie</th><th scope=col>Sweater</th><th scope=col>Shirts</th></tr>\n",
       "\t<tr><th scope=col>&lt;chr&gt;</th><th scope=col>&lt;int&gt;</th><th scope=col>&lt;int&gt;</th><th scope=col>&lt;int&gt;</th></tr>\n",
       "</thead>\n",
       "<tbody>\n",
       "\t<tr><td>Jan  </td><td>250</td><td>220</td><td>130</td></tr>\n",
       "\t<tr><td>Feb  </td><td>224</td><td>250</td><td>154</td></tr>\n",
       "\t<tr><td>March</td><td>178</td><td>220</td><td>196</td></tr>\n",
       "\t<tr><td>April</td><td>160</td><td>200</td><td>224</td></tr>\n",
       "\t<tr><td>May  </td><td>129</td><td>185</td><td>250</td></tr>\n",
       "</tbody>\n",
       "</table>\n"
      ],
      "text/latex": [
       "A data.frame: 5 × 4\n",
       "\\begin{tabular}{llll}\n",
       " Month & Hoodie & Sweater & Shirts\\\\\n",
       " <chr> & <int> & <int> & <int>\\\\\n",
       "\\hline\n",
       "\t Jan   & 250 & 220 & 130\\\\\n",
       "\t Feb   & 224 & 250 & 154\\\\\n",
       "\t March & 178 & 220 & 196\\\\\n",
       "\t April & 160 & 200 & 224\\\\\n",
       "\t May   & 129 & 185 & 250\\\\\n",
       "\\end{tabular}\n"
      ],
      "text/markdown": [
       "\n",
       "A data.frame: 5 × 4\n",
       "\n",
       "| Month &lt;chr&gt; | Hoodie &lt;int&gt; | Sweater &lt;int&gt; | Shirts &lt;int&gt; |\n",
       "|---|---|---|---|\n",
       "| Jan   | 250 | 220 | 130 |\n",
       "| Feb   | 224 | 250 | 154 |\n",
       "| March | 178 | 220 | 196 |\n",
       "| April | 160 | 200 | 224 |\n",
       "| May   | 129 | 185 | 250 |\n",
       "\n"
      ],
      "text/plain": [
       "  Month Hoodie Sweater Shirts\n",
       "1 Jan   250    220     130   \n",
       "2 Feb   224    250     154   \n",
       "3 March 178    220     196   \n",
       "4 April 160    200     224   \n",
       "5 May   129    185     250   "
      ]
     },
     "metadata": {},
     "output_type": "display_data"
    }
   ],
   "source": [
    "berkeleyStore"
   ]
  },
  {
   "cell_type": "markdown",
   "metadata": {},
   "source": [
    "- Every dataset will have multiple **rows**. Each row represents one **observation**. For example, in this dataset, one row corresponds with one month, then we know multiple things about what happened in that month by looking across the row. In other datasets, each row might correspond with one person. For example, in my gradebook at the end of the semester, I'll have a dataset where each row corresponds with one student in this class. You'll have your own row.\n",
    "- Every dataset will have multiple **columns**. Each column represents one **variable**. A variable is a characteristic that can be measured or counted for every observation (that is, every row). For example, in my gradebook at the end of the semester, everyone's grade on Problem Set 1 will correspond with one column.\n",
    "- The intersection of a row and a column in a dataset contains the value of one variable for one particular observation. For example, the `berkeleyStore` dataset shows that in Februray, the store sold 250 sweaters. In my gradebook at the end of the semester, if I look in the row for your grades, and in the column for Problem Set 1, I'll see your grade for Problem Set 1."
   ]
  },
  {
   "cell_type": "markdown",
   "metadata": {},
   "source": [
    "In this class, you'll also see a **codebook** that tells you what each variable means. Here's what the variables mean in this dataset:\n",
    "\n",
    "- `Month`: What month of the year the sales refer to\n",
    "- `Hoodie`: How many hoodies sold that month\n",
    "- `Sweater`: How many sweaters sold that month\n",
    "- `Shirts`: How many shirts were sold that month"
   ]
  },
  {
   "cell_type": "markdown",
   "metadata": {},
   "source": [
    "As we can see R succesfully interpreted our file!\n",
    "\n",
    "While the dataset is insightful enough by itself, it would be nice to do some operations with it. R allow us to do some interesting operations with the dataset columns. `dataSetName$varName` allow us to read a specified column in our data set and return it.\n",
    "\n",
    "**For the in-class assignment, you'll use the approach in the next cell to answer Question 2.**\n",
    "\n",
    "(The **R Cheat Sheet** in bCourses will contain a list of everything we learn how to do in R and how to do it!)"
   ]
  },
  {
   "cell_type": "code",
   "execution_count": null,
   "metadata": {},
   "outputs": [],
   "source": [
    "# dataNameSet$varName give us the specified column.\n",
    "berkeleyStore$Hoodie"
   ]
  },
  {
   "cell_type": "markdown",
   "metadata": {},
   "source": [
    "Furthermore, it is possible to do different operations to this variable. In this case, let's compute the mean of the number of hoodies sold in these five months. let's use R's `mean()` function, which computes the mean of a given variable."
   ]
  },
  {
   "cell_type": "code",
   "execution_count": null,
   "metadata": {},
   "outputs": [],
   "source": [
    "mean(berkeleyStore$Hoodie)"
   ]
  },
  {
   "cell_type": "markdown",
   "metadata": {},
   "source": [
    "You can even save the results into a new variable which just contains a single value. **For the in-class assignment, you'll use the approach in the next cell to answer Questions 3 and 4.**"
   ]
  },
  {
   "cell_type": "code",
   "execution_count": null,
   "metadata": {},
   "outputs": [],
   "source": [
    "hoodie.mean <- mean(berkeleyStore$Hoodie) # This assigns the value to hoodie.mean\n",
    "hoodie.mean # This line just prints what is in hoodie.mean"
   ]
  },
  {
   "cell_type": "markdown",
   "metadata": {},
   "source": [
    "Once we've assigned a variable, whether by using a command line `x <- 5` or the command above, they behave just like numbers. So, once they're assigned, so you can do arithmetic with the variables, too, just like we showed above.\n",
    "\n",
    "For example, suppose that you want to calculate how many hoodies the Berkeley store is likely to sell in an entire year? Let's take our `hoodie.mean` (the monthly average) and multiply by 12.\n",
    "\n",
    "**For the in-class assignment, you'll use the approach in the next cell to answer Question 5 (although not using multiplication).**"
   ]
  },
  {
   "cell_type": "code",
   "execution_count": null,
   "metadata": {},
   "outputs": [],
   "source": [
    "hoodies.per.year <- hoodie.mean * 12\n",
    "hoodies.per.year"
   ]
  },
  {
   "cell_type": "markdown",
   "metadata": {
    "tags": [
     "include"
    ]
   },
   "source": [
    "### Note on Variable Types\n",
    "\n",
    "Not every variable is a number. For example, the `Month` variable is what is called a **string**, because it contains letters and words, not just numbers. Therefore, taking the `mean()` of `berkeleyStore$Month` is just going to give us an error."
   ]
  },
  {
   "cell_type": "code",
   "execution_count": null,
   "metadata": {
    "tags": [
     "include"
    ]
   },
   "outputs": [],
   "source": [
    "mean(berkeleyStore$Month)"
   ]
  },
  {
   "cell_type": "markdown",
   "metadata": {
    "tags": [
     "include"
    ]
   },
   "source": [
    "## Conclusion\n",
    "\n",
    "Over the course of this notebook, you were introduced to the basic types of objects in R, how to store them, and how to use them."
   ]
  },
  {
   "cell_type": "markdown",
   "metadata": {
    "tags": [
     "include"
    ]
   },
   "source": [
    "#### Reminder about Peer Consulting Office Hours\n",
    "\n",
    "If you had trouble with any content in this notebook, Data Peer Consultants are here to help! You\n",
    "can view their locations and availabilites at this link: https://data.berkeley.edu/education/data-peer-consulting. Peer Consultants are there to answer all data-related questions, whether it be about the content of this notebook, applications of data science in the world or other data science courses offered at Berkeley -- make sure to take advantage of this wonderful resource!"
   ]
  },
  {
   "cell_type": "markdown",
   "metadata": {},
   "source": [
    "## More about class\n",
    "\n",
    "This was *Week 2, Lecture Notebook 1*. In class, you'll work on *Week 2, Activity Notebook 1*. In that notebook, you'll use what you'll learned in this notebook to answer very similar problems. Because it's the first week, that notebook will be graded for completion.\n",
    "\n",
    "Every \"Day 1\", you'll answer that week's *Activity Notebook 1* **twice**:\n",
    "\n",
    "- You'll first have 20 minutes to answer the questions individually. The notebooks will be available at 5:00 pm and be due at 5:30 pm.\n",
    "- You'll then have 15 minutes to answer the *same* questions as a group from 5:35 - 5:50 pm. (For some of those questions, you'll be able to see whether you're getting the answer right or wrong.)\n",
    "- Finally, we'll regroup and go over the right answers as a class.\n",
    "\n",
    "If you need help during class:\n",
    "\n",
    "- Check out the R Cheat Sheet in bCourses.\n",
    "- If class is taking place on Zoom, go to the breakout room for the question number you're having trouble with (during individual assignments) or go ask for help (during group assignments, while in your group breakout room). If the class is taking place in person, find a GSI and ask for help!"
   ]
  },
  {
   "cell_type": "markdown",
   "metadata": {
    "tags": [
     "include"
    ]
   },
   "source": [
    "## Last thing: Downloading Your Notebook and Submitting it to be graded\n",
    "\n",
    "When you finish assignments, you'll download your notebook and then submit it by uploading it to Gradescope. There will be instructions at the end of the assignments on how to do so.\n",
    "\n",
    "**You do NOT need to submit THIS notebook. These instructions apply to the in-class assignments and problem sets, NOT the lecture notebooks (like this one).**"
   ]
  }
 ],
 "metadata": {
  "kernelspec": {
   "display_name": "R",
   "language": "R",
   "name": "ir"
  },
  "language_info": {
   "codemirror_mode": "r",
   "file_extension": ".r",
   "mimetype": "text/x-r-source",
   "name": "R",
   "pygments_lexer": "r",
   "version": "4.1.2"
  },
  "latex_envs": {
   "LaTeX_envs_menu_present": true,
   "autoclose": false,
   "autocomplete": true,
   "bibliofile": "biblio.bib",
   "cite_by": "apalike",
   "current_citInitial": 1,
   "eqLabelWithNumbers": true,
   "eqNumInitial": 1,
   "hotkeys": {
    "equation": "Ctrl-E",
    "itemize": "Ctrl-I"
   },
   "labels_anchors": false,
   "latex_user_defs": false,
   "report_style_numbering": false,
   "user_envs_cfg": false
  }
 },
 "nbformat": 4,
 "nbformat_minor": 2
}
