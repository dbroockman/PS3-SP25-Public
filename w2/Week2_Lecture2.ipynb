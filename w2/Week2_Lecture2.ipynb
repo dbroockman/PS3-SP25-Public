{
 "cells": [
  {
   "cell_type": "markdown",
   "metadata": {},
   "source": [
    "# POLSCI 3\n",
    "\n",
    "## Week 2, Lecture 2: Subsetting Data\n",
    "\n",
    "In this notebook, we will cover subsetting data with the `subset()` function and then taking the mean of variables within those subsets."
   ]
  },
  {
   "cell_type": "markdown",
   "metadata": {},
   "source": [
    "## Subsetting in R with `subset()`"
   ]
  },
  {
   "cell_type": "markdown",
   "metadata": {},
   "source": [
    "Sometimes when we work with large datasets, we want to take a look at a specific *subset* of that data.\n",
    "\n",
    "For our example today, we'll use a pretty cool dataset. This dataset was gathered by <a href=\"https://onlinelibrary.wiley.com/doi/10.1111/ajps.12618?af=R\" target=\"_blank\">Shoub et al. (2021)</a>.\n",
    "\n",
    "Let's start by reading in a dataset, as we learned in Lecture 1."
   ]
  },
  {
   "cell_type": "code",
   "execution_count": 1,
   "metadata": {},
   "outputs": [
    {
     "data": {
      "text/html": [
       "<table class=\"dataframe\">\n",
       "<caption>A data.frame: 6 × 6</caption>\n",
       "<thead>\n",
       "\t<tr><th></th><th scope=col>search_occur</th><th scope=col>contra</th><th scope=col>driver_age</th><th scope=col>driver_race</th><th scope=col>officer_female</th><th scope=col>officer_id</th></tr>\n",
       "\t<tr><th></th><th scope=col>&lt;int&gt;</th><th scope=col>&lt;int&gt;</th><th scope=col>&lt;chr&gt;</th><th scope=col>&lt;chr&gt;</th><th scope=col>&lt;int&gt;</th><th scope=col>&lt;chr&gt;</th></tr>\n",
       "</thead>\n",
       "<tbody>\n",
       "\t<tr><th scope=row>1</th><td>0</td><td>0</td><td>above 60         </td><td>NA   </td><td>0</td><td>4a6ccf9467</td></tr>\n",
       "\t<tr><th scope=row>2</th><td>0</td><td>0</td><td>under 35         </td><td>NA   </td><td>0</td><td>f1bc8a7a74</td></tr>\n",
       "\t<tr><th scope=row>3</th><td>0</td><td>0</td><td>under 35         </td><td>POC  </td><td>0</td><td>07e6718e7d</td></tr>\n",
       "\t<tr><th scope=row>4</th><td>0</td><td>0</td><td>between 35 and 60</td><td>White</td><td>0</td><td>000f298db7</td></tr>\n",
       "\t<tr><th scope=row>5</th><td>0</td><td>0</td><td>between 35 and 60</td><td>White</td><td>0</td><td>4f549e4570</td></tr>\n",
       "\t<tr><th scope=row>6</th><td>0</td><td>0</td><td>under 35         </td><td>NA   </td><td>0</td><td>99d2f19d4f</td></tr>\n",
       "</tbody>\n",
       "</table>\n"
      ],
      "text/latex": [
       "A data.frame: 6 × 6\n",
       "\\begin{tabular}{r|llllll}\n",
       "  & search\\_occur & contra & driver\\_age & driver\\_race & officer\\_female & officer\\_id\\\\\n",
       "  & <int> & <int> & <chr> & <chr> & <int> & <chr>\\\\\n",
       "\\hline\n",
       "\t1 & 0 & 0 & above 60          & NA    & 0 & 4a6ccf9467\\\\\n",
       "\t2 & 0 & 0 & under 35          & NA    & 0 & f1bc8a7a74\\\\\n",
       "\t3 & 0 & 0 & under 35          & POC   & 0 & 07e6718e7d\\\\\n",
       "\t4 & 0 & 0 & between 35 and 60 & White & 0 & 000f298db7\\\\\n",
       "\t5 & 0 & 0 & between 35 and 60 & White & 0 & 4f549e4570\\\\\n",
       "\t6 & 0 & 0 & under 35          & NA    & 0 & 99d2f19d4f\\\\\n",
       "\\end{tabular}\n"
      ],
      "text/markdown": [
       "\n",
       "A data.frame: 6 × 6\n",
       "\n",
       "| <!--/--> | search_occur &lt;int&gt; | contra &lt;int&gt; | driver_age &lt;chr&gt; | driver_race &lt;chr&gt; | officer_female &lt;int&gt; | officer_id &lt;chr&gt; |\n",
       "|---|---|---|---|---|---|---|\n",
       "| 1 | 0 | 0 | above 60          | NA    | 0 | 4a6ccf9467 |\n",
       "| 2 | 0 | 0 | under 35          | NA    | 0 | f1bc8a7a74 |\n",
       "| 3 | 0 | 0 | under 35          | POC   | 0 | 07e6718e7d |\n",
       "| 4 | 0 | 0 | between 35 and 60 | White | 0 | 000f298db7 |\n",
       "| 5 | 0 | 0 | between 35 and 60 | White | 0 | 4f549e4570 |\n",
       "| 6 | 0 | 0 | under 35          | NA    | 0 | 99d2f19d4f |\n",
       "\n"
      ],
      "text/plain": [
       "  search_occur contra driver_age        driver_race officer_female officer_id\n",
       "1 0            0      above 60          NA          0              4a6ccf9467\n",
       "2 0            0      under 35          NA          0              f1bc8a7a74\n",
       "3 0            0      under 35          POC         0              07e6718e7d\n",
       "4 0            0      between 35 and 60 White       0              000f298db7\n",
       "5 0            0      between 35 and 60 White       0              4f549e4570\n",
       "6 0            0      under 35          NA          0              99d2f19d4f"
      ]
     },
     "metadata": {},
     "output_type": "display_data"
    }
   ],
   "source": [
    "officerdata <- read.csv('ps3_fl_officers_large.csv')\n",
    "head(officerdata) # head() just shows us the first six rows of a dataset. This dataset is too long to print!"
   ]
  },
  {
   "cell_type": "markdown",
   "metadata": {},
   "source": [
    "This dataset contains real data on officers and drivers from nearly 860,000 police traffic stops. Each row represents one time that an officer stopped someone. Here is more information about the variables:\n",
    "\n",
    "- <code>search_occur</code>: Whether or not a search was conducted by the officer at that stop (0 = no search, 1 =  search)\n",
    "- <code>contra</code>: Whether or not a contraband (illegal items such as illegal drugs or guns) is found by the officer at that stop (0 = no contraband, 1 = contraband). *Officers only can find contraband if they conduct a search.*\n",
    "- <code>driver_age</code>: Age of driver (years)\n",
    "- <code>driver_race</code>: Race of driver (White = white; POC = non-white)\n",
    "- <code>officer_female</code>: Officer gender (0 = male, 1 = female)"
   ]
  },
  {
   "cell_type": "markdown",
   "metadata": {},
   "source": [
    "### How `subset()` works\n",
    "\n",
    "Here's how `subset()` works:\n",
    "\n",
    "`name.of.new.subset.dataset <- subset(original.dataset, variable.in.dataset == accepted.value)`\n",
    "\n",
    "This line takes `original.dataset`, subsets it to rows (observations) when `variable.in.dataset` equals `accepted.value`, and saves that subset in `name.of.new.subset.dataset`.\n",
    "\n",
    "If the variable is a **string** (letters and words) variable, you need to wrap it in quotations, like this (single quotes `'` and double quotes `\"` both work):\n",
    "\n",
    "`name.of.new.subset.dataset <- subset(original.dataset, variable.in.dataset == 'accepted.value')`\n",
    "`name.of.new.subset.dataset <- subset(original.dataset, variable.in.dataset == \"accepted.value\")`"
   ]
  },
  {
   "cell_type": "markdown",
   "metadata": {},
   "source": [
    "### Hypothetical use of `subset()`\n",
    "\n",
    "Suppose we have a `oskiStore` dataset:\n",
    "\n",
    "<table>\n",
    "<thead>\n",
    "  <tr>\n",
    "    <th>Month</th>\n",
    "    <th>Sweaters</th>\n",
    "    <th>Hoodies</th>\n",
    "  </tr>\n",
    "</thead>\n",
    "<tbody>\n",
    "  <tr>\n",
    "    <td>Jan</td>\n",
    "    <td>220</td>\n",
    "    <td>75</td>\n",
    "  </tr>\n",
    "  <tr>\n",
    "    <td>Feb</td>\n",
    "    <td>195</td>\n",
    "    <td>90</td>\n",
    "  </tr>\n",
    "  <tr>\n",
    "    <td>March</td>\n",
    "    <td>175</td>\n",
    "    <td>80</td>\n",
    "  </tr>\n",
    "  <tr>\n",
    "    <td>April</td>\n",
    "    <td>220</td>\n",
    "    <td>60</td>\n",
    "  </tr>\n",
    "</tbody>\n",
    "</table>\n",
    "\n",
    "If we run `oski.many.sweaters <- subset(oskiStore, Sweaters == 220)`, then `oski.many.sweaters` will look like this:\n",
    "\n",
    "<table>\n",
    "<thead>\n",
    "  <tr>\n",
    "    <th>Month</th>\n",
    "    <th>Sweaters</th>\n",
    "    <th>Hoodies</th>\n",
    "  </tr>\n",
    "</thead>\n",
    "<tbody>\n",
    "  <tr>\n",
    "    <td>Jan</td>\n",
    "    <td>220</td>\n",
    "    <td>75</td>\n",
    "  </tr>\n",
    "  <tr>\n",
    "    <td>April</td>\n",
    "    <td>220</td>\n",
    "    <td>60</td>\n",
    "  </tr>\n",
    "</tbody>\n",
    "</table>\n",
    "\n",
    "In this example, `oski.many.sweaters` is a entirely new dataset, and we can do all the same things with it that we could do to `oskiStore`.\n",
    "\n",
    "Likewise, if we run `oskiApril <- subset(oskiStore, Month == 'April')`, then `oskiApril` will look like this:\n",
    "\n",
    "<table>\n",
    "<thead>\n",
    "  <tr>\n",
    "    <th>Month</th>\n",
    "    <th>Sweaters</th>\n",
    "    <th>Hoodies</th>\n",
    "  </tr>\n",
    "</thead>\n",
    "<tbody>\n",
    "  <tr>\n",
    "    <td>April</td>\n",
    "    <td>220</td>\n",
    "    <td>60</td>\n",
    "  </tr>\n",
    "</tbody>\n",
    "</table>\n",
    "\n"
   ]
  },
  {
   "cell_type": "markdown",
   "metadata": {},
   "source": [
    "### Real example use of `subset()`\n",
    "\n",
    "Let's say we want to subset the `officerdata` in order to look at the data specifically from traffic stops by female officers.\n",
    "\n",
    "*Hint: You'll need to do exactly this in Activity Notebook 2!*"
   ]
  },
  {
   "cell_type": "code",
   "execution_count": null,
   "metadata": {},
   "outputs": [],
   "source": [
    "female.officer.stops <- subset(officerdata, officer_female == 1)\n",
    "head(female.officer.stops)"
   ]
  },
  {
   "cell_type": "markdown",
   "metadata": {},
   "source": [
    "We can subset based on values of other variables, too."
   ]
  },
  {
   "cell_type": "code",
   "execution_count": null,
   "metadata": {},
   "outputs": [],
   "source": [
    "search.occured <- subset(officerdata, search_occur == 1)\n",
    "head(search.occured)"
   ]
  },
  {
   "cell_type": "markdown",
   "metadata": {},
   "source": [
    "## Gathering Statistics: Using `mean()` within a subset"
   ]
  },
  {
   "cell_type": "markdown",
   "metadata": {},
   "source": [
    "To gather more statistics, we can run `mean()` on just this subset of data. Running `mean()` on subsets of the data will give us the means (of whatever variable we take the mean of) within those subsets."
   ]
  },
  {
   "cell_type": "markdown",
   "metadata": {},
   "source": [
    "#### Mean "
   ]
  },
  {
   "cell_type": "markdown",
   "metadata": {},
   "source": [
    "Let's compare the means of contrabands found among stops between male and female officers. "
   ]
  },
  {
   "cell_type": "code",
   "execution_count": null,
   "metadata": {},
   "outputs": [],
   "source": [
    "female.officer.stops <- subset(officerdata, officer_female == 1)\n",
    "mean(female.officer.stops$contra)"
   ]
  },
  {
   "cell_type": "code",
   "execution_count": null,
   "metadata": {},
   "outputs": [],
   "source": [
    "male.officer.stops <- subset(officerdata, officer_female == 0)\n",
    "mean(male.officer.stops$contra)"
   ]
  },
  {
   "cell_type": "markdown",
   "metadata": {},
   "source": [
    "Now let's compare the means of this rate between drivers under 35 and between 35 and 60.\n",
    "\n",
    "To do this, we need to subset on a **string** variable. We can see above that the `driver_age` variable is a string because it has letters and words."
   ]
  },
  {
   "cell_type": "code",
   "execution_count": null,
   "metadata": {},
   "outputs": [],
   "source": [
    "drivers.under35 <- subset(officerdata, driver_age == 'under 35')\n",
    "mean(drivers.under35$contra)"
   ]
  },
  {
   "cell_type": "code",
   "execution_count": null,
   "metadata": {},
   "outputs": [],
   "source": [
    "drivers.35to60 <- subset(officerdata, driver_age == 'between 35 and 60')\n",
    "mean(drivers.35to60$contra)"
   ]
  },
  {
   "cell_type": "markdown",
   "metadata": {},
   "source": [
    "We can also turn these into percentages when printing them by just multiplying them by 100:"
   ]
  },
  {
   "cell_type": "code",
   "execution_count": null,
   "metadata": {},
   "outputs": [],
   "source": [
    "prop.drivers.35to60.withcontra <- mean(drivers.35to60$contra)\n",
    "prop.drivers.35to60.withcontra * 100"
   ]
  },
  {
   "cell_type": "markdown",
   "metadata": {},
   "source": [
    "## More about next class\n",
    "\n",
    "This was *Week 2, Lecture Notebook 2*. In class, you'll work on *Week 2, Activity Notebook 2*. In that notebook, you'll use what you'll learned in this notebook to answer very similar problems. Because it's the first week, the notebook will not count towards your grade.\n",
    "\n",
    "- Every \"Day 2\" of a week, you'll work on *Activity Notebook 2* in your groups.\n",
    "- You will have 45 minutes to answer the questions, so until 5:55 pm. (You can start early at 5:00 pm if you want.)\n",
    "- In these group notebooks, some of the questions will tell you whether you're getting the right answer or not as you go.\n",
    "- These notebooks will also have open ended questions. These we will manually grade later and can't be automatically graded, of course.\n",
    "- Finally, we'll regroup and go over the right answers as a class at the end of class.\n",
    "\n",
    "If you need help during class:\n",
    "\n",
    "- Check out the R Cheat Sheet in bCourses.\n",
    "- Click ask for help while in your breakout room.\n",
    "\n",
    "Final reminder: you do **NOT** need to turn in this lecture notebook. You only need to turn in in-class activities and problem sets."
   ]
  }
 ],
 "metadata": {
  "kernelspec": {
   "display_name": "R",
   "language": "R",
   "name": "ir"
  },
  "language_info": {
   "codemirror_mode": "r",
   "file_extension": ".r",
   "mimetype": "text/x-r-source",
   "name": "R",
   "pygments_lexer": "r",
   "version": "4.1.2"
  },
  "latex_envs": {
   "LaTeX_envs_menu_present": true,
   "autoclose": false,
   "autocomplete": true,
   "bibliofile": "biblio.bib",
   "cite_by": "apalike",
   "current_citInitial": 1,
   "eqLabelWithNumbers": true,
   "eqNumInitial": 1,
   "hotkeys": {
    "equation": "Ctrl-E",
    "itemize": "Ctrl-I"
   },
   "labels_anchors": false,
   "latex_user_defs": false,
   "report_style_numbering": false,
   "user_envs_cfg": false
  }
 },
 "nbformat": 4,
 "nbformat_minor": 2
}
